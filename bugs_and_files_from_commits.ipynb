{
 "cells": [
  {
   "cell_type": "code",
   "execution_count": 52,
   "id": "db2d50d5-6f74-4abb-8706-4cd78283bb58",
   "metadata": {},
   "outputs": [],
   "source": [
    "# https://pydriller.readthedocs.io/en/latest/tutorial.html"
   ]
  },
  {
   "cell_type": "code",
   "execution_count": 53,
   "id": "215f40d6-7f22-4839-93f4-c1d19ddc5140",
   "metadata": {},
   "outputs": [],
   "source": [
    "import pydriller\n",
    "from pydriller import Repository\n",
    "import json\n",
    "import pandas\n",
    "import os\n",
    "from tqdm import tqdm as tq"
   ]
  },
  {
   "cell_type": "code",
   "execution_count": 54,
   "id": "27027ba2",
   "metadata": {},
   "outputs": [],
   "source": [
    "bug_related_msg = ['bug','bugs','fix','fixes','patch','fault','corrected','tweaked','problem','problems','issue']"
   ]
  },
  {
   "cell_type": "code",
   "execution_count": 55,
   "id": "0469916c-267d-451c-b909-b5f7e934f338",
   "metadata": {},
   "outputs": [],
   "source": [
    "# exception_messages = []\n",
    "def bugs_from_commits_in_repo(repo_name):\n",
    "    commits_info = {}\n",
    "    non_dvc_not_bug_count = 0\n",
    "    dvc_not_bug_count = 0\n",
    "    non_dvc_bug_count = 0\n",
    "    dvc_bug_count = 0\n",
    "    number_of_exceptions = 0\n",
    "    total_commits = 0\n",
    "\n",
    "    for commit in Repository(repo_name).traverse_commits():\n",
    "        total_commits += 1\n",
    "        if commit.in_main_branch == False:\n",
    "            continue\n",
    "        is_bug = False\n",
    "        is_dvc = False\n",
    "        for bug_msg in bug_related_msg:\n",
    "            if bug_msg in commit.msg:\n",
    "                is_bug = True\n",
    "                break\n",
    "        single_commmit = {}\n",
    "        changed_files = []\n",
    "        try:\n",
    "            for file in commit.modified_files:\n",
    "                if 'dvc' in str(file.old_path).lower() or 'dvc' in str(file.new_path).lower():\n",
    "                    is_dvc = True\n",
    "                    if is_bug == False:\n",
    "                        break\n",
    "                if is_bug == True:\n",
    "                    file_obj = {}\n",
    "                    file_obj['file_name'] = file.filename\n",
    "                    file_obj['old_path'] = file.old_path\n",
    "                    file_obj['new_path'] = file.new_path\n",
    "                    file_obj['nloc'] = file.nloc\n",
    "                    changed_files.append(file_obj)\n",
    "\n",
    "            if is_bug == False:\n",
    "                if is_dvc == False:\n",
    "                    non_dvc_not_bug_count += 1\n",
    "                else:\n",
    "                    dvc_not_bug_count += 1\n",
    "                continue\n",
    "            if is_dvc == True:\n",
    "                dvc_bug_count += 1\n",
    "            else:\n",
    "                non_dvc_bug_count += 1\n",
    "\n",
    "            single_commmit['committer_date'] = str(commit.committer_date) \n",
    "            single_commmit['author_date'] = str(commit.author_date)\n",
    "            single_commmit['commit_message'] = commit.msg\n",
    "            single_commmit['in_main_branch'] = commit.in_main_branch\n",
    "            single_commmit['committer'] = commit.committer.email\n",
    "            single_commmit[\"modified_files\"]=changed_files\n",
    "            single_commmit['is_dvc_related'] = is_dvc\n",
    "            commits_info[commit.hash] = single_commmit        \n",
    "        except Exception as e:\n",
    "            number_of_exceptions += 1\n",
    "            # exception_messages.append(str(e))\n",
    "            # print(str(e))\n",
    "    commits_info[\"non_dvc_not_bug_count\"] = non_dvc_not_bug_count\n",
    "    commits_info[\"dvc_not_bug_count\"] = dvc_not_bug_count\n",
    "    commits_info[\"non_dvc_bug_count\"] = non_dvc_bug_count\n",
    "    commits_info[\"dvc_bug_count\"] = dvc_bug_count\n",
    "    print(\"Repo Name\", repo_name)\n",
    "    print(non_dvc_not_bug_count, dvc_not_bug_count, non_dvc_bug_count, dvc_bug_count, non_dvc_not_bug_count + dvc_not_bug_count + non_dvc_bug_count + dvc_bug_count, total_commits)\n",
    "    print(\"Number of Exceptions\", str(number_of_exceptions))\n",
    "    print()\n",
    "    return commits_info"
   ]
  },
  {
   "cell_type": "code",
   "execution_count": 56,
   "id": "f39f2b64",
   "metadata": {},
   "outputs": [],
   "source": [
    "def save_to_file(root, repo_name, file_name, json_obj):\n",
    "    repo_name = repo_name.split(\"/\")[1]\n",
    "    folder_path = os.path.join(root,repo_name)\n",
    "    file_path = os.path.join(folder_path,file_name)\n",
    "    if not os.path.exists(folder_path):\n",
    "        os.makedirs(folder_path)\n",
    "    with open(file_path, 'w') as f:\n",
    "        json.dump(json_obj, f, indent=4)"
   ]
  },
  {
   "cell_type": "code",
   "execution_count": 57,
   "id": "b718f462-307d-4ffb-841b-5b8f5ab63f39",
   "metadata": {},
   "outputs": [],
   "source": [
    "repos = [\n",
    "    'weiji14/deepicedrain',\n",
    "    'ipno-llead/processing',\n",
    "    'nasaharvest/crop-mask',\n",
    "    'BlueBrain/Search',\n",
    "    'rootski-io/rootski',\n",
    "    'dna-seq/dna-seq',\n",
    "    'GenericMappingTools/pygmt',\n",
    "    'GenericMappingTools/gmt',\n",
    "]"
   ]
  },
  {
   "cell_type": "code",
   "execution_count": 58,
   "id": "78803fd6",
   "metadata": {},
   "outputs": [
    {
     "name": "stderr",
     "output_type": "stream",
     "text": [
      " 12%|██████████▌                                                                         | 1/8 [01:32<10:49, 92.81s/it]"
     ]
    },
    {
     "name": "stdout",
     "output_type": "stream",
     "text": [
      "Repo Name https://github.com/weiji14/deepicedrain\n",
      "457 1 65 1 524 536\n",
      "Number of Exceptions 12\n",
      "\n"
     ]
    },
    {
     "name": "stderr",
     "output_type": "stream",
     "text": [
      " 25%|████████████████████▊                                                              | 2/8 [05:01<16:06, 161.08s/it]"
     ]
    },
    {
     "name": "stdout",
     "output_type": "stream",
     "text": [
      "Repo Name https://github.com/ipno-llead/processing\n",
      "1312 89 350 2 1753 1753\n",
      "Number of Exceptions 0\n",
      "\n"
     ]
    },
    {
     "name": "stderr",
     "output_type": "stream",
     "text": [
      " 38%|███████████████████████████████▏                                                   | 3/8 [09:49<18:15, 219.14s/it]"
     ]
    },
    {
     "name": "stdout",
     "output_type": "stream",
     "text": [
      "Repo Name https://github.com/nasaharvest/crop-mask\n",
      "1312 107 88 2 1509 1509\n",
      "Number of Exceptions 0\n",
      "\n"
     ]
    },
    {
     "name": "stderr",
     "output_type": "stream",
     "text": [
      " 50%|█████████████████████████████████████████▌                                         | 4/8 [10:44<10:16, 154.11s/it]"
     ]
    },
    {
     "name": "stdout",
     "output_type": "stream",
     "text": [
      "Repo Name https://github.com/BlueBrain/Search\n",
      "357 28 50 1 436 436\n",
      "Number of Exceptions 0\n",
      "\n"
     ]
    },
    {
     "name": "stderr",
     "output_type": "stream",
     "text": [
      " 62%|███████████████████████████████████████████████████▉                               | 5/8 [11:40<05:56, 118.68s/it]"
     ]
    },
    {
     "name": "stdout",
     "output_type": "stream",
     "text": [
      "Repo Name https://github.com/rootski-io/rootski\n",
      "377 4 76 1 458 458\n",
      "Number of Exceptions 0\n",
      "\n"
     ]
    },
    {
     "name": "stderr",
     "output_type": "stream",
     "text": [
      " 75%|███████████████████████████████████████████████████████████████                     | 6/8 [11:55<02:46, 83.49s/it]"
     ]
    },
    {
     "name": "stdout",
     "output_type": "stream",
     "text": [
      "Repo Name https://github.com/dna-seq/dna-seq\n",
      "69 18 18 4 109 109\n",
      "Number of Exceptions 0\n",
      "\n"
     ]
    },
    {
     "name": "stderr",
     "output_type": "stream",
     "text": [
      " 88%|████████████████████████████████████████████████████████████████████████▋          | 7/8 [16:49<02:32, 152.43s/it]"
     ]
    },
    {
     "name": "stdout",
     "output_type": "stream",
     "text": [
      "Repo Name https://github.com/GenericMappingTools/pygmt\n",
      "1219 78 209 15 1521 1521\n",
      "Number of Exceptions 0\n",
      "\n",
      "Repo Name https://github.com/GenericMappingTools/gmt\n",
      "22404 26 3277 13 25720 25720\n",
      "Number of Exceptions 0\n",
      "\n"
     ]
    },
    {
     "name": "stderr",
     "output_type": "stream",
     "text": [
      "100%|█████████████████████████████████████████████████████████████████████████████████| 8/8 [1:58:26<00:00, 888.32s/it]\n"
     ]
    }
   ],
   "source": [
    "commits_infos = []\n",
    "for i in tq(range(len(repos))):\n",
    "    commits_infos.append(bugs_from_commits_in_repo(\"https://github.com/\"+repos[i]))\n",
    "    save_to_file(\"C:\\\\Users\\\\F_RABBI\\\\Desktop\\\\se4a1_class_group_project\\\\data\",repos[i],\"bugs_from_commits.json\",commits_infos[i])"
   ]
  },
  {
   "cell_type": "code",
   "execution_count": null,
   "id": "d1e9f3b7",
   "metadata": {},
   "outputs": [],
   "source": []
  },
  {
   "cell_type": "code",
   "execution_count": 59,
   "id": "d763da05",
   "metadata": {},
   "outputs": [
    {
     "data": {
      "text/plain": [
       "'None'"
      ]
     },
     "execution_count": 59,
     "metadata": {},
     "output_type": "execute_result"
    }
   ],
   "source": [
    "str(None)"
   ]
  },
  {
   "cell_type": "code",
   "execution_count": null,
   "id": "8518fbd5-7f39-4efa-a70b-9b5f3dd63bb3",
   "metadata": {},
   "outputs": [],
   "source": []
  }
 ],
 "metadata": {
  "kernelspec": {
   "display_name": "Python 3 (ipykernel)",
   "language": "python",
   "name": "python3"
  },
  "language_info": {
   "codemirror_mode": {
    "name": "ipython",
    "version": 3
   },
   "file_extension": ".py",
   "mimetype": "text/x-python",
   "name": "python",
   "nbconvert_exporter": "python",
   "pygments_lexer": "ipython3",
   "version": "3.9.12"
  }
 },
 "nbformat": 4,
 "nbformat_minor": 5
}
