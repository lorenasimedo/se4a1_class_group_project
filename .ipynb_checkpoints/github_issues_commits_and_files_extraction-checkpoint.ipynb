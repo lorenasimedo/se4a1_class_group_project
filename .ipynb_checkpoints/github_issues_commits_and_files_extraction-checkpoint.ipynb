{
 "cells": [
  {
   "cell_type": "markdown",
   "id": "f7cc1891-95b4-41d2-b5f3-27e88d6b300b",
   "metadata": {},
   "source": [
    "#### **Var definitions**\n",
    "Change it whenever necessary"
   ]
  },
  {
   "cell_type": "code",
   "execution_count": 27,
   "id": "a5830af9-5b02-4e5b-b816-17e3e2ce05bf",
   "metadata": {},
   "outputs": [],
   "source": [
    "access_oauth_token = \"token <PlACE_HOLDER>\" #TODO: delete the value before commiting the code\n",
    "repo = \"BlueBrain/Search\"\n",
    "out = '/Users/lorenapacheco/Concordia/se4ai_class/se4a1_class_group_project/bug-reports/'\n",
    "repo_name= repo.split('/')[1]\n",
    "proj = repo_name\n",
    "base_path = '/Users/lorenapacheco/Concordia/se4ai_class/'\n",
    "out_commits_dir = base_path + \"se4a1_class_group_project/commits/\" + repo_name\n",
    "proj_path = base_path + \"systems_being_studied/\" + repo_name"
   ]
  },
  {
   "cell_type": "markdown",
   "id": "52567c99-a2ee-4d59-9793-56dc0e37aff6",
   "metadata": {},
   "source": [
    "#### **Bug reports mining**\n",
    "Getting all the Github **issues** from the project that are **closed** and have the **bug**'s label"
   ]
  },
  {
   "cell_type": "code",
   "execution_count": 56,
   "id": "34c9997d-ca93-4662-92af-9a615ba0f0d4",
   "metadata": {},
   "outputs": [
    {
     "name": "stdout",
     "output_type": "stream",
     "text": [
      "[578, 556, 555, 547, 543, 496, 472, 470, 469, 467, 466, 462, 461, 456, 437, 417, 411, 404, 397, 396, 390, 387, 362, 361, 302, 300, 255, 173, 136, 126, 123, 115]\n",
      "\n",
      "Number of issues: 32\n"
     ]
    }
   ],
   "source": [
    "import os\n",
    "import json\n",
    "import requests\n",
    "import pprint\n",
    "\n",
    "def get_git_closed_bug_issues(repo, media_type = \"application/vnd.github+json\"):\n",
    "    issue_numbers_list = []\n",
    "    current_page=1\n",
    "    pagination_end = False\n",
    "    # https://github.com/BlueBrain/Search/issues?q=is%3Aissue+is%3Aclosed+label%3A%22%F0%9F%90%9B+bug+fix\n",
    "    #iteration throught the pagination\n",
    "    while not pagination_end:\n",
    "        request_url = \"https://api.github.com/repos/\"+repo+\"/issues?state=closed&labels=bug&page=\"+str(current_page)\n",
    "        if proj == \"Search\":\n",
    "            request_url = request_url.replace(\"bug\", \"🐛+bug+fix\") # Different bug label in the project BlueBrain/Search\n",
    "        \n",
    "        issues_json = requests.get(\n",
    "            request_url,\n",
    "            headers={\n",
    "                'Accept': media_type,\n",
    "                'Authorization': access_oauth_token\n",
    "            }\n",
    "        ).json()\n",
    "        if len(issues_json) > 0:\n",
    "            for issue in issues_json:\n",
    "                issue_numbers_list.append(issue[\"number\"])\n",
    "            current_page = current_page + 1\n",
    "        else:\n",
    "            pagination_end = True\n",
    "            \n",
    "    return issue_numbers_list\n",
    "\n",
    "\n",
    "issue_numbers_list = get_git_closed_bug_issues(repo)\n",
    "print(issue_numbers_list)\n",
    "print(\"\\nNumber of issues: \" + str(len(issue_numbers_list)))"
   ]
  },
  {
   "cell_type": "markdown",
   "id": "f3dc7ac4-79a4-4e8c-bc57-5e77157637a4",
   "metadata": {},
   "source": [
    "#### **Bug reports content extraction**\n",
    "Extraction the content of each of these bug reports"
   ]
  },
  {
   "cell_type": "code",
   "execution_count": 57,
   "id": "db596209-ac75-48f1-ade0-eb62df3202df",
   "metadata": {},
   "outputs": [
    {
     "name": "stdout",
     "output_type": "stream",
     "text": [
      "Extraction completed\n"
     ]
    }
   ],
   "source": [
    "output_folder = out + repo_name+ '/'\n",
    "\n",
    "def git_request_br_json(issue_n, repo, media_type = 'application/vnd.github.v3+json'):\n",
    "    retrieved_json = requests.get(\n",
    "        'https://api.github.com/repos/'+repo+'/issues/'+str(issue_n),\n",
    "        headers={\n",
    "            'Accept': media_type,\n",
    "            'Authorization': access_oauth_token\n",
    "        }\n",
    "    ).json()\n",
    "    #pprint.pprint(retrieved_json)\n",
    "    \n",
    "    if 'comments_url' not in retrieved_json:\n",
    "        return\n",
    "    \n",
    "    comment_url = retrieved_json['comments_url']\n",
    "    retrieved_comments = requests.get(\n",
    "        comment_url,\n",
    "        headers={\n",
    "            'Accept': media_type,\n",
    "            'Authorization': access_oauth_token\n",
    "        }\n",
    "    ).json()\n",
    "    retrieved_json['comments_content'] = retrieved_comments\n",
    "    return retrieved_json\n",
    "\n",
    "def dict_to_json_file(file, dic, folder=output_folder):\n",
    "    if not os.path.exists(folder):\n",
    "        os.makedirs(folder)\n",
    "    with open(os.path.join(folder, file+'.json'), 'w') as fp:\n",
    "        json.dump(dic, fp, sort_keys=True, indent=4)\n",
    "    fp.close()\n",
    "\n",
    "\n",
    "for issue_number in issue_numbers_list:\n",
    "    try:\n",
    "        retrieved_json = git_request_br_json(issue_number, repo)\n",
    "    except ConnectionError:\n",
    "        print('ConnectionError', repo, issue_number)\n",
    "        break\n",
    "\n",
    "    if not retrieved_json:\n",
    "        print('Json not retrieved, something might be wrong')\n",
    "        continue\n",
    "\n",
    "    dict_to_json_file(repo_name+'-'+str(issue_number), retrieved_json)\n",
    "print (\"Extraction completed\")"
   ]
  },
  {
   "cell_type": "markdown",
   "id": "549cda26-58e1-455c-b9ae-bbef6d00b869",
   "metadata": {},
   "source": [
    "#### **Commits search**\n",
    "Searching for the respective commits"
   ]
  },
  {
   "cell_type": "code",
   "execution_count": 58,
   "id": "ec91a642-8d5d-432a-83e6-53bb7689462f",
   "metadata": {},
   "outputs": [
    {
     "name": "stdout",
     "output_type": "stream",
     "text": [
      "Extraction complete\n",
      "Number obtained: 15\n"
     ]
    }
   ],
   "source": [
    "import re\n",
    "import glob\n",
    "from collections import defaultdict\n",
    "from urllib.parse import quote\n",
    "from datetime import datetime\n",
    "\n",
    "bug_reports_commits = defaultdict(dict)\n",
    "cont = 0\n",
    "\n",
    "def json_file_to_dict(file):\n",
    "    data = {}\n",
    "    with open(os.path.join(output_folder, file+'.json'), 'r') as fp:\n",
    "        data = json.load(fp)\n",
    "    fp.close()\n",
    "    return data\n",
    "\n",
    "def get_bug_report_commit(bug, proj_path):\n",
    "    os.chdir(proj_path)\n",
    "    log_grep_command = \"git log --grep=\\\"#\"+ str(bug)+\"[^0-9]\\\" --grep=\\\"#\"+ str(bug)+\"$\\\" --pretty=format:\\\"%H\\\" >> commit_output\"\n",
    "    os.system(log_grep_command)\n",
    "    lines = []\n",
    "    with open(\"commit_output\", 'r') as fp:\n",
    "        lines =fp.readlines()\n",
    "        fp.close()\n",
    "    os.system(\"rm commit_output\")\n",
    "    if (lines):\n",
    "        commit_hash = lines[0].strip()\n",
    "        return(commit_hash)\n",
    "    return \"\"\n",
    "\n",
    "def get_commit_files(commit):\n",
    "    get_files_command = \"git diff --name-only \"+ commit+ \" \" + commit+  \"~1 >> files_output\"\n",
    "    os.system(get_files_command)\n",
    "    files = []\n",
    "    with open(\"files_output\", 'r') as fp:\n",
    "        files =fp.readlines()\n",
    "        fp.close()\n",
    "    os.system(\"rm files_output\")\n",
    "    files = [f.strip() for f in files]\n",
    "    return files\n",
    "\n",
    "\n",
    "for bug in issue_numbers_list:\n",
    "    commit = get_bug_report_commit(bug, proj_path)\n",
    "    bug_report = json_file_to_dict(proj + \"-\" + str(bug))\n",
    "    if not bug_report:\n",
    "        continue\n",
    "    creation_date = datetime.strptime(bug_report[\"created_at\"], \"%Y-%m-%dT%H:%M:%SZ\")\n",
    "    closing_date = datetime.strptime(bug_report[\"closed_at\"], \"%Y-%m-%dT%H:%M:%SZ\")\n",
    "    duration = closing_date - creation_date\n",
    "    duration_in_s = duration.total_seconds()\n",
    "    hours_to_resolution = duration_in_s/3600\n",
    "    if (commit != \"\"):\n",
    "        content = {\n",
    "            \"commit\": commit,\n",
    "            \"modified_files\": get_commit_files(commit),\n",
    "            \"number_of_comments\": bug_report[\"comments\"],\n",
    "            \"created_at\": bug_report[\"created_at\"],\n",
    "            \"closed_at\": bug_report[\"closed_at\"],\n",
    "            \"hours_to_resolution\": \"{:.2f}\".format(hours_to_resolution)\n",
    "        }\n",
    "        bug_reports_commits[bug] = content\n",
    "        cont = cont + 1\n",
    "\n",
    "\n",
    "if bug_reports_commits:\n",
    "    dict_to_json_file(\"bugs_from_github_issues\", bug_reports_commits, out_commits_dir)\n",
    "\n",
    "print(\"Extraction completed\")\n",
    "print(\"Number obtained: \" + str(cont))"
   ]
  },
  {
   "cell_type": "code",
   "execution_count": null,
   "id": "3acec079-8522-42d2-b30d-a11fe488ebf6",
   "metadata": {},
   "outputs": [],
   "source": []
  }
 ],
 "metadata": {
  "kernelspec": {
   "display_name": "Python 3 (ipykernel)",
   "language": "python",
   "name": "python3"
  },
  "language_info": {
   "codemirror_mode": {
    "name": "ipython",
    "version": 3
   },
   "file_extension": ".py",
   "mimetype": "text/x-python",
   "name": "python",
   "nbconvert_exporter": "python",
   "pygments_lexer": "ipython3",
   "version": "3.10.6"
  }
 },
 "nbformat": 4,
 "nbformat_minor": 5
}
