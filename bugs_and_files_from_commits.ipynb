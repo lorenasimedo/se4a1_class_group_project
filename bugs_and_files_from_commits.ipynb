{
 "cells": [
  {
   "cell_type": "code",
   "execution_count": 37,
   "id": "db2d50d5-6f74-4abb-8706-4cd78283bb58",
   "metadata": {},
   "outputs": [],
   "source": [
    "# https://pydriller.readthedocs.io/en/latest/tutorial.html"
   ]
  },
  {
   "cell_type": "code",
   "execution_count": 38,
   "id": "215f40d6-7f22-4839-93f4-c1d19ddc5140",
   "metadata": {},
   "outputs": [],
   "source": [
    "import pydriller\n",
    "from pydriller import Repository\n",
    "import json\n",
    "import pandas\n",
    "import os\n",
    "from tqdm import tqdm as tq"
   ]
  },
  {
   "cell_type": "code",
   "execution_count": 39,
   "id": "27027ba2",
   "metadata": {},
   "outputs": [],
   "source": [
    "bug_related_msg = ['bug','bugs','fix','fixes','patch','fault','corrected','tweaked','problem','problems','issue']"
   ]
  },
  {
   "cell_type": "code",
   "execution_count": 40,
   "id": "0469916c-267d-451c-b909-b5f7e934f338",
   "metadata": {},
   "outputs": [],
   "source": [
    "def bugs_from_commits_in_repo(repo_name):\n",
    "    commits_info = {}\n",
    "    for commit in Repository(repo_name).traverse_commits():\n",
    "        for bug_msg in bug_related_msg:\n",
    "            if bug_msg in commit.msg:\n",
    "                single_commmit = {}\n",
    "                single_commmit['committer_date'] = str(commit.committer_date) \n",
    "                single_commmit['author_date'] = str(commit.author_date)\n",
    "                single_commmit['commit_message'] = commit.msg\n",
    "                single_commmit['in_main_branch'] = commit.in_main_branch\n",
    "                single_commmit['committer'] = commit.committer.email\n",
    "                changed_files = []\n",
    "                for file in commit.modified_files:\n",
    "                    file_obj = {}\n",
    "                    file_obj['file_name'] = file.filename\n",
    "                    file_obj['old_path'] = file.old_path\n",
    "                    file_obj['new_path'] = file.new_path\n",
    "                    file_obj['nloc'] = file.nloc\n",
    "                    changed_files.append(file_obj)\n",
    "                single_commmit[\"modified_files\"]=changed_files\n",
    "                commits_info[commit.hash] = single_commmit\n",
    "    return commits_info"
   ]
  },
  {
   "cell_type": "code",
   "execution_count": 41,
   "id": "f39f2b64",
   "metadata": {},
   "outputs": [],
   "source": [
    "def save_to_file(root, repo_name, file_name, json_obj):\n",
    "    repo_name = repo_name.split(\"/\")[1]\n",
    "    folder_path = os.path.join(root,repo_name)\n",
    "    file_path = os.path.join(folder_path,file_name)\n",
    "    if not os.path.exists(folder_path):\n",
    "        os.makedirs(folder_path)\n",
    "    with open(file_path, 'w') as f:\n",
    "        json.dump(json_obj, f, indent=4)"
   ]
  },
  {
   "cell_type": "code",
   "execution_count": 42,
   "id": "b718f462-307d-4ffb-841b-5b8f5ab63f39",
   "metadata": {},
   "outputs": [],
   "source": [
    "repos = [\n",
    "    'ipno-llead/processing',\n",
    "    'GenericMappingTools/gmt',\n",
    "    'GenericMappingTools/pygmt',\n",
    "    'nasaharvest/crop-mask',\n",
    "    'BlueBrain/Search',\n",
    "    'rootski-io/rootski',\n",
    "    'weiji14/deepicedrain',\n",
    "    'dna-seq/dna-seq'\n",
    "]"
   ]
  },
  {
   "cell_type": "code",
   "execution_count": 43,
   "id": "78803fd6",
   "metadata": {},
   "outputs": [
    {
     "name": "stderr",
     "output_type": "stream",
     "text": [
      "100%|███████████████████████████████████████████████████████████████████████████████████| 8/8 [44:13<00:00, 331.64s/it]\n"
     ]
    }
   ],
   "source": [
    "for i in tq(range(len(repos))):\n",
    "    commits_info = bugs_from_commits_in_repo(\"https://github.com/\"+repos[i])\n",
    "    save_to_file(\"C:\\\\Users\\\\F_RABBI\\\\Desktop\\\\se4a1_class_group_project\\\\data\",repos[i],\"bugs_from_commits.json\",commits_info)"
   ]
  },
  {
   "cell_type": "code",
   "execution_count": null,
   "id": "d1e9f3b7",
   "metadata": {},
   "outputs": [],
   "source": []
  },
  {
   "cell_type": "code",
   "execution_count": null,
   "id": "d763da05",
   "metadata": {},
   "outputs": [],
   "source": []
  }
 ],
 "metadata": {
  "kernelspec": {
   "display_name": "Python 3 (ipykernel)",
   "language": "python",
   "name": "python3"
  },
  "language_info": {
   "codemirror_mode": {
    "name": "ipython",
    "version": 3
   },
   "file_extension": ".py",
   "mimetype": "text/x-python",
   "name": "python",
   "nbconvert_exporter": "python",
   "pygments_lexer": "ipython3",
   "version": "3.9.12"
  }
 },
 "nbformat": 4,
 "nbformat_minor": 5
}
