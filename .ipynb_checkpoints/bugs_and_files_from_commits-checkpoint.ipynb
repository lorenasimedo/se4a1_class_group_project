{
 "cells": [
  {
   "cell_type": "code",
   "execution_count": 18,
   "id": "db2d50d5-6f74-4abb-8706-4cd78283bb58",
   "metadata": {},
   "outputs": [],
   "source": [
    "# https://pydriller.readthedocs.io/en/latest/tutorial.html"
   ]
  },
  {
   "cell_type": "code",
   "execution_count": 6,
   "id": "215f40d6-7f22-4839-93f4-c1d19ddc5140",
   "metadata": {},
   "outputs": [],
   "source": [
    "import pydriller\n",
    "from pydriller import Repository"
   ]
  },
  {
   "cell_type": "code",
   "execution_count": 9,
   "id": "37a92116-b614-4d35-ac20-5d52c3d9e8ee",
   "metadata": {},
   "outputs": [],
   "source": [
    "for commit in Repository(\"C:\\\\Users\\\\F_RABBI\\\\Desktop\\\\datasets\").traverse_commits():\n",
    "    for file in commit.modified_files:\n",
    "        print('{} has complexity of {}, and it contains {} methods'.format(\n",
    "              file.filename, file.complexity, len(file.methods)))"
   ]
  },
  {
   "cell_type": "code",
   "execution_count": null,
   "id": "6a4d662a-d238-4d85-bb77-552d2fe4893e",
   "metadata": {},
   "outputs": [],
   "source": []
  },
  {
   "cell_type": "code",
   "execution_count": 25,
   "id": "0469916c-267d-451c-b909-b5f7e934f338",
   "metadata": {},
   "outputs": [],
   "source": [
    "bug_related_files = []\n",
    "bug_related_msg = ['bug','bugs','fix','fixes','patch','fault']\n",
    "\n",
    "for commit in Repository(\"C:\\\\Users\\\\F_RABBI\\\\Desktop\\\\datasets\").traverse_commits():\n",
    "    for bug_msg in bug_related_msg:\n",
    "        if bug_msg in commit.msg:\n",
    "            for file in commit.modified_files:\n",
    "                bug_related_files.append(file)"
   ]
  },
  {
   "cell_type": "code",
   "execution_count": 32,
   "id": "b11b720c-2060-4ed6-8d25-d147d528ba28",
   "metadata": {},
   "outputs": [],
   "source": [
    "import pickle\n",
    "with open(\"C:\\\\Users\\\\F_RABBI\\\\Desktop\\\\se4a1_class_group_project\\\\files\\\\bug_related_files.pkl\", \"wb\") as f:\n",
    "    pickle.dump(bug_related_files, f)"
   ]
  },
  {
   "cell_type": "code",
   "execution_count": 31,
   "id": "c97e8891-770e-487f-9985-1175fcbf82fb",
   "metadata": {},
   "outputs": [],
   "source": [
    "import pandas\n",
    "files_info = []\n",
    "for file in bug_related_files:\n",
    "    obj = {}\n",
    "    obj['file_name'] = file.filename\n",
    "    obj['old_path'] = file.old_path\n",
    "    obj['new_path'] = file.new_path\n",
    "    obj['nloc'] = file.nloc\n",
    "    files_info.append(obj)"
   ]
  },
  {
   "cell_type": "code",
   "execution_count": 33,
   "id": "dda8d868-65de-4e04-8820-dedbce37e5d7",
   "metadata": {},
   "outputs": [],
   "source": [
    "import json\n",
    "with open(\"C:\\\\Users\\\\F_RABBI\\\\Desktop\\\\se4a1_class_group_project\\\\files\\\\bug_related_files.json\", \"w\") as f:\n",
    "    json.dump(files_info, f)"
   ]
  },
  {
   "cell_type": "code",
   "execution_count": null,
   "id": "cf79313d-952f-48b0-b48c-d5d0f735d626",
   "metadata": {},
   "outputs": [],
   "source": []
  }
 ],
 "metadata": {
  "kernelspec": {
   "display_name": "Python 3 (ipykernel)",
   "language": "python",
   "name": "python3"
  },
  "language_info": {
   "codemirror_mode": {
    "name": "ipython",
    "version": 3
   },
   "file_extension": ".py",
   "mimetype": "text/x-python",
   "name": "python",
   "nbconvert_exporter": "python",
   "pygments_lexer": "ipython3",
   "version": "3.9.12"
  }
 },
 "nbformat": 4,
 "nbformat_minor": 5
}
