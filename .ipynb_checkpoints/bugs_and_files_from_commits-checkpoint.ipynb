{
 "cells": [
  {
   "cell_type": "code",
   "execution_count": 5,
   "id": "db2d50d5-6f74-4abb-8706-4cd78283bb58",
   "metadata": {},
   "outputs": [],
   "source": [
    "# https://pydriller.readthedocs.io/en/latest/tutorial.html"
   ]
  },
  {
   "cell_type": "code",
   "execution_count": 6,
   "id": "215f40d6-7f22-4839-93f4-c1d19ddc5140",
   "metadata": {},
   "outputs": [],
   "source": [
    "import pydriller\n",
    "from pydriller import Repository\n",
    "import json\n",
    "import pandas"
   ]
  },
  {
   "cell_type": "code",
   "execution_count": 12,
   "id": "0469916c-267d-451c-b909-b5f7e934f338",
   "metadata": {},
   "outputs": [],
   "source": [
    "bug_related_msg = ['bug','bugs','fix','fixes','patch','fault','corrected','tweaked','problem','problems','issue']\n",
    "files_info = []\n",
    "\n",
    "for commit in Repository(\"C:\\\\Users\\\\F_RABBI\\\\Desktop\\\\datasets\").traverse_commits():\n",
    "    for bug_msg in bug_related_msg:\n",
    "        if bug_msg in commit.msg:\n",
    "            for file in commit.modified_files:\n",
    "                obj = {}\n",
    "                obj['file_name'] = file.filename\n",
    "                obj['old_path'] = file.old_path\n",
    "                obj['new_path'] = file.new_path\n",
    "                obj['nloc'] = file.nloc\n",
    "                obj['author_date'] = str(commit.author_date)\n",
    "                obj['committer_date'] = str(commit.committer_date) \n",
    "                files_info.append(obj)"
   ]
  },
  {
   "cell_type": "code",
   "execution_count": 13,
   "id": "aff4eeeb-745f-4afc-b291-3c960ce9cf73",
   "metadata": {},
   "outputs": [],
   "source": [
    "files_info_json = json.dumps(files_info)"
   ]
  },
  {
   "cell_type": "code",
   "execution_count": null,
   "id": "dda8d868-65de-4e04-8820-dedbce37e5d7",
   "metadata": {},
   "outputs": [],
   "source": [
    "with open(\"C:\\\\Users\\\\F_RABBI\\\\Desktop\\\\se4a1_class_group_project\\\\files\\\\bugs_in_committed_files.json\", \"w\") as f:\n",
    "    json.dump(files_info_json, f)"
   ]
  },
  {
   "cell_type": "code",
   "execution_count": null,
   "id": "cf79313d-952f-48b0-b48c-d5d0f735d626",
   "metadata": {},
   "outputs": [],
   "source": [
    "pandas.read_json(files_info_json).to_csv('C:\\\\Users\\\\F_RABBI\\\\Desktop\\\\se4a1_class_group_project\\\\files\\\\bugs_in_committed_files.csv')"
   ]
  },
  {
   "cell_type": "code",
   "execution_count": null,
   "id": "b718f462-307d-4ffb-841b-5b8f5ab63f39",
   "metadata": {},
   "outputs": [],
   "source": []
  }
 ],
 "metadata": {
  "kernelspec": {
   "display_name": "Python 3 (ipykernel)",
   "language": "python",
   "name": "python3"
  },
  "language_info": {
   "codemirror_mode": {
    "name": "ipython",
    "version": 3
   },
   "file_extension": ".py",
   "mimetype": "text/x-python",
   "name": "python",
   "nbconvert_exporter": "python",
   "pygments_lexer": "ipython3",
   "version": "3.9.12"
  }
 },
 "nbformat": 4,
 "nbformat_minor": 5
}
