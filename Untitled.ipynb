{
 "cells": [
  {
   "cell_type": "code",
   "execution_count": null,
   "id": "a73f9b92-a1b3-48cd-b712-0638d38f291f",
   "metadata": {},
   "outputs": [],
   "source": [
    "summary[\"DVC_Bug_Ratio_Per_Commit\"] = DVC_Bug_Ratio_Per_Commit\n",
    "summary[\"NON_DVC_Bug_Ratio_Per_Commit\"] = NON_DVC_Bug_Ratio_Per_Commit\n",
    "summary[\"DVC_Files_Modified_Any_Type_Files_Med\"] = DVC_Files_Modified_Any_Type_Files_Med\n",
    "summary[\"DVC_Files_Modified_Any_Type_Files_Avg\"] = DVC_Files_Modified_Any_Type_Files_Avg\n",
    "summary[\"DVC_Files_Modified_DVC_Files_Med\"] = DVC_Files_Modified_DVC_Files_Med\n",
    "summary[\"DVC_Files_Modified_DVC_Files_Avg\"] = DVC_Files_Modified_DVC_Files_Avg\n",
    "summary[\"DVC_Files_Added_Any_Type_lines_Med\"] = DVC_Files_Added_Any_Type_lines_Med\n",
    "summary[\"DVC_Files_Added_Any_Type_lines_Avg\"] = DVC_Files_Added_Any_Type_lines_Avg\n",
    "summary[\"DVC_Files_Added_DVC_lines_Med\"] = DVC_Files_Added_DVC_lines_Med\n",
    "summary[\"DVC_Files_Added_DVC_lines_Avg\"] = DVC_Files_Added_DVC_lines_Avg\n",
    "summary[\"DVC_Files_Deleted_Any_Type_lines_Med\"] = DVC_Files_Deleted_Any_Type_lines_Med\n",
    "summary[\"DVC_Files_Deleted_Any_Type_lines_Avg\"] = DVC_Files_Deleted_Any_Type_lines_Avg\n",
    "summary[\"DVC_Files_Deleted_DVC_lines_Med\"] = DVC_Files_Deleted_DVC_lines_Med\n",
    "summary[\"DVC_Files_Deleted_DVC_lines_Avg\"] = DVC_Files_Deleted_DVC_lines_Avg"
   ]
  }
 ],
 "metadata": {
  "kernelspec": {
   "display_name": "Python 3 (ipykernel)",
   "language": "python",
   "name": "python3"
  },
  "language_info": {
   "codemirror_mode": {
    "name": "ipython",
    "version": 3
   },
   "file_extension": ".py",
   "mimetype": "text/x-python",
   "name": "python",
   "nbconvert_exporter": "python",
   "pygments_lexer": "ipython3",
   "version": "3.9.12"
  }
 },
 "nbformat": 4,
 "nbformat_minor": 5
}
