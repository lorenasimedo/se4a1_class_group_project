{
 "cells": [
  {
   "cell_type": "code",
   "execution_count": 31,
   "id": "db2d50d5-6f74-4abb-8706-4cd78283bb58",
   "metadata": {},
   "outputs": [],
   "source": [
    "# https://pydriller.readthedocs.io/en/latest/tutorial.html"
   ]
  },
  {
   "cell_type": "code",
   "execution_count": 32,
   "id": "215f40d6-7f22-4839-93f4-c1d19ddc5140",
   "metadata": {},
   "outputs": [],
   "source": [
    "import pydriller\n",
    "from pydriller import Repository\n",
    "import json\n",
    "import pandas\n",
    "import os\n",
    "from tqdm import tqdm as tq\n",
    "import statistics"
   ]
  },
  {
   "cell_type": "code",
   "execution_count": 33,
   "id": "27027ba2",
   "metadata": {},
   "outputs": [],
   "source": [
    "bug_related_msg = ['bug','bugs','fix','fixes','patch','fault','corrected','tweaked','problem','problems','issue']"
   ]
  },
  {
   "cell_type": "code",
   "execution_count": 39,
   "id": "0469916c-267d-451c-b909-b5f7e934f338",
   "metadata": {},
   "outputs": [],
   "source": [
    "# exception_messages = []\n",
    "def bugs_from_commits_in_repo(repo_name):\n",
    "    commits_info = {}\n",
    "    non_dvc_not_bug_count = 0\n",
    "    dvc_not_bug_count = 0\n",
    "    non_dvc_bug_count = 0\n",
    "    dvc_bug_count = 0\n",
    "    number_of_exceptions = 0\n",
    "    total_commits = 0\n",
    "    dvc_files_changes_count = []\n",
    "    non_dvc_files_changes_count = []\n",
    "    \n",
    "    for commit in Repository(repo_name).traverse_commits():\n",
    "        total_commits += 1\n",
    "        if commit.in_main_branch == False:\n",
    "            continue\n",
    "        is_bug = False\n",
    "        is_dvc = False\n",
    "        for bug_msg in bug_related_msg:\n",
    "            if bug_msg in commit.msg:\n",
    "                is_bug = True\n",
    "                break\n",
    "        single_commmit = {}\n",
    "        changed_files = []\n",
    "        try:            \n",
    "            for file in commit.modified_files:\n",
    "                if 'dvc' in str(file.old_path).lower() or 'dvc' in str(file.new_path).lower():\n",
    "                    is_dvc = True\n",
    "                    if is_bug == False:\n",
    "                        break\n",
    "                if is_bug == True:\n",
    "                    file_obj = {}\n",
    "                    file_obj['file_name'] = file.filename\n",
    "                    file_obj['old_path'] = file.old_path\n",
    "                    file_obj['new_path'] = file.new_path\n",
    "                    file_obj['nloc'] = file.nloc\n",
    "                    changed_files.append(file_obj)\n",
    "\n",
    "            if is_bug == False:\n",
    "                if is_dvc == False:\n",
    "                    non_dvc_not_bug_count += 1\n",
    "                else:\n",
    "                    dvc_not_bug_count += 1\n",
    "                continue\n",
    "            if is_dvc == True:\n",
    "                dvc_bug_count += 1\n",
    "            else:\n",
    "                non_dvc_bug_count += 1\n",
    "\n",
    "            single_commmit['committer_date'] = str(commit.committer_date) \n",
    "            single_commmit['author_date'] = str(commit.author_date)\n",
    "            single_commmit['commit_message'] = commit.msg\n",
    "            single_commmit['in_main_branch'] = commit.in_main_branch\n",
    "            single_commmit['committer'] = commit.committer.email\n",
    "            single_commmit[\"modified_files\"]=changed_files\n",
    "            single_commmit['is_dvc_related'] = is_dvc\n",
    "            commits_info[commit.hash] = single_commmit\n",
    "\n",
    "            if is_dvc:\n",
    "                dvc_files_changes_count.append(len(commit.modified_files))\n",
    "            else:\n",
    "                non_dvc_files_changes_count.append(len(commit.modified_files))\n",
    "        except Exception as e:\n",
    "            number_of_exceptions += 1\n",
    "            # exception_messages.append(str(e))\n",
    "            # print(str(e))\n",
    "    commits_info[\"non_dvc_not_bug_count\"] = non_dvc_not_bug_count\n",
    "    commits_info[\"dvc_not_bug_count\"] = dvc_not_bug_count\n",
    "    commits_info[\"non_dvc_bug_count\"] = non_dvc_bug_count\n",
    "    commits_info[\"dvc_bug_count\"] = dvc_bug_count\n",
    "    print(\"Repo Name\", repo_name)\n",
    "    print(\"DVC Bug Ratio Per Commit: \", dvc_bug_count/(dvc_bug_count+dvc_not_bug_count))\n",
    "    print(\"NON DVC Bug Ratio Per Commit: \", non_dvc_bug_count/(non_dvc_bug_count+non_dvc_not_bug_count))\n",
    "    print(\"DVC Files Median and Average for Number of Modified Files:     \", statistics.median(dvc_files_changes_count), \",\", sum(dvc_files_changes_count)/len(dvc_files_changes_count))\n",
    "    print(\"NON DVC Files Median and Average for Number of Modified Files: \", statistics.median(non_dvc_files_changes_count), \",\", sum(non_dvc_files_changes_count)/len(non_dvc_files_changes_count))\n",
    "    print(\"non_dvc_not_bug_count, dvc_not_bug_count, non_dvc_bug_count, dvc_bug_count, non_dvc_not_bug_count + dvc_not_bug_count + non_dvc_bug_count + dvc_bug_count, total_commits\")\n",
    "    print(non_dvc_not_bug_count, dvc_not_bug_count, non_dvc_bug_count, dvc_bug_count, non_dvc_not_bug_count + dvc_not_bug_count + non_dvc_bug_count + dvc_bug_count, total_commits)\n",
    "    print(\"Number of Exceptions\", str(number_of_exceptions))\n",
    "    print()\n",
    "    return commits_info"
   ]
  },
  {
   "cell_type": "code",
   "execution_count": 40,
   "id": "f39f2b64",
   "metadata": {},
   "outputs": [],
   "source": [
    "def save_to_file(root, repo_name, file_name, json_obj):\n",
    "    repo_name = repo_name.split(\"/\")[1]\n",
    "    folder_path = os.path.join(root,repo_name)\n",
    "    file_path = os.path.join(folder_path,file_name)\n",
    "    if not os.path.exists(folder_path):\n",
    "        os.makedirs(folder_path)\n",
    "    with open(file_path, 'w') as f:\n",
    "        json.dump(json_obj, f, indent=4)"
   ]
  },
  {
   "cell_type": "code",
   "execution_count": 41,
   "id": "3da767c1-d967-4c30-9550-37f66014f6c0",
   "metadata": {},
   "outputs": [],
   "source": [
    "def load_from_file(root, repo_name, file_name):\n",
    "    repo_name = repo_name.split(\"/\")[1]\n",
    "    folder_path = os.path.join(root,repo_name)\n",
    "    file_path = os.path.join(folder_path,file_name)\n",
    "    with open(file_path, 'r') as f:\n",
    "        return json.load(f)"
   ]
  },
  {
   "cell_type": "code",
   "execution_count": 42,
   "id": "b718f462-307d-4ffb-841b-5b8f5ab63f39",
   "metadata": {},
   "outputs": [],
   "source": [
    "repos = [\n",
    "    'weiji14/deepicedrain',\n",
    "    'ipno-llead/processing',\n",
    "    'nasaharvest/crop-mask',\n",
    "    'BlueBrain/Search',\n",
    "    'rootski-io/rootski',\n",
    "    'dna-seq/dna-seq',\n",
    "    'GenericMappingTools/pygmt',\n",
    "    'GenericMappingTools/gmt',\n",
    "]"
   ]
  },
  {
   "cell_type": "code",
   "execution_count": null,
   "id": "78803fd6",
   "metadata": {},
   "outputs": [
    {
     "name": "stderr",
     "output_type": "stream",
     "text": [
      " 12%|██████████▌                                                                         | 1/8 [01:29<10:25, 89.32s/it]"
     ]
    },
    {
     "name": "stdout",
     "output_type": "stream",
     "text": [
      "Repo Name https://github.com/weiji14/deepicedrain\n",
      "DVC Bug Ratio Per Commit:  0.5\n",
      "NON DVC Bug Ratio Per Commit:  0.12452107279693486\n",
      "DVC Files Median and Average for Number of Modified Files:      10 , 10.0\n",
      "NON DVC Files Median and Average for Number of Modified Files:  2 , 3.076923076923077\n",
      "non_dvc_not_bug_count, dvc_not_bug_count, non_dvc_bug_count, dvc_bug_count, non_dvc_not_bug_count + dvc_not_bug_count + non_dvc_bug_count + dvc_bug_count, total_commits\n",
      "457 1 65 1 524 536\n",
      "Number of Exceptions 12\n",
      "\n"
     ]
    },
    {
     "name": "stderr",
     "output_type": "stream",
     "text": [
      " 25%|████████████████████▊                                                              | 2/8 [05:04<16:19, 163.18s/it]"
     ]
    },
    {
     "name": "stdout",
     "output_type": "stream",
     "text": [
      "Repo Name https://github.com/ipno-llead/processing\n",
      "DVC Bug Ratio Per Commit:  0.021505376344086023\n",
      "NON DVC Bug Ratio Per Commit:  0.20855614973262032\n",
      "DVC Files Median and Average for Number of Modified Files:      3.0 , 3.0\n",
      "NON DVC Files Median and Average for Number of Modified Files:  1 , 1.6980056980056981\n",
      "non_dvc_not_bug_count, dvc_not_bug_count, non_dvc_bug_count, dvc_bug_count, non_dvc_not_bug_count + dvc_not_bug_count + non_dvc_bug_count + dvc_bug_count, total_commits\n",
      "1332 91 351 2 1776 1776\n",
      "Number of Exceptions 0\n",
      "\n"
     ]
    },
    {
     "name": "stderr",
     "output_type": "stream",
     "text": [
      " 38%|███████████████████████████████▏                                                   | 3/8 [10:17<19:19, 231.88s/it]"
     ]
    },
    {
     "name": "stdout",
     "output_type": "stream",
     "text": [
      "Repo Name https://github.com/nasaharvest/crop-mask\n",
      "DVC Bug Ratio Per Commit:  0.016666666666666666\n",
      "NON DVC Bug Ratio Per Commit:  0.06510969568294409\n",
      "DVC Files Median and Average for Number of Modified Files:      4.5 , 4.5\n",
      "NON DVC Files Median and Average for Number of Modified Files:  1.0 , 1.3478260869565217\n",
      "non_dvc_not_bug_count, dvc_not_bug_count, non_dvc_bug_count, dvc_bug_count, non_dvc_not_bug_count + dvc_not_bug_count + non_dvc_bug_count + dvc_bug_count, total_commits\n",
      "1321 118 92 2 1533 1533\n",
      "Number of Exceptions 0\n",
      "\n"
     ]
    },
    {
     "name": "stderr",
     "output_type": "stream",
     "text": [
      " 50%|█████████████████████████████████████████▌                                         | 4/8 [11:11<10:46, 161.71s/it]"
     ]
    },
    {
     "name": "stdout",
     "output_type": "stream",
     "text": [
      "Repo Name https://github.com/BlueBrain/Search\n",
      "DVC Bug Ratio Per Commit:  0.034482758620689655\n",
      "NON DVC Bug Ratio Per Commit:  0.12285012285012285\n",
      "DVC Files Median and Average for Number of Modified Files:      55 , 55.0\n",
      "NON DVC Files Median and Average for Number of Modified Files:  3.0 , 4.74\n",
      "non_dvc_not_bug_count, dvc_not_bug_count, non_dvc_bug_count, dvc_bug_count, non_dvc_not_bug_count + dvc_not_bug_count + non_dvc_bug_count + dvc_bug_count, total_commits\n",
      "357 28 50 1 436 436\n",
      "Number of Exceptions 0\n",
      "\n"
     ]
    },
    {
     "name": "stderr",
     "output_type": "stream",
     "text": [
      " 62%|███████████████████████████████████████████████████▉                               | 5/8 [12:06<06:08, 122.98s/it]"
     ]
    },
    {
     "name": "stdout",
     "output_type": "stream",
     "text": [
      "Repo Name https://github.com/rootski-io/rootski\n",
      "DVC Bug Ratio Per Commit:  0.2\n",
      "NON DVC Bug Ratio Per Commit:  0.16777041942604856\n",
      "DVC Files Median and Average for Number of Modified Files:      51 , 51.0\n",
      "NON DVC Files Median and Average for Number of Modified Files:  1.0 , 2.8289473684210527\n",
      "non_dvc_not_bug_count, dvc_not_bug_count, non_dvc_bug_count, dvc_bug_count, non_dvc_not_bug_count + dvc_not_bug_count + non_dvc_bug_count + dvc_bug_count, total_commits\n",
      "377 4 76 1 458 458\n",
      "Number of Exceptions 0\n",
      "\n"
     ]
    },
    {
     "name": "stderr",
     "output_type": "stream",
     "text": [
      " 75%|███████████████████████████████████████████████████████████████                     | 6/8 [12:21<02:52, 86.29s/it]"
     ]
    },
    {
     "name": "stdout",
     "output_type": "stream",
     "text": [
      "Repo Name https://github.com/dna-seq/dna-seq\n",
      "DVC Bug Ratio Per Commit:  0.18181818181818182\n",
      "NON DVC Bug Ratio Per Commit:  0.20689655172413793\n",
      "DVC Files Median and Average for Number of Modified Files:      6.5 , 8.0\n",
      "NON DVC Files Median and Average for Number of Modified Files:  2.0 , 2.5\n",
      "non_dvc_not_bug_count, dvc_not_bug_count, non_dvc_bug_count, dvc_bug_count, non_dvc_not_bug_count + dvc_not_bug_count + non_dvc_bug_count + dvc_bug_count, total_commits\n",
      "69 18 18 4 109 109\n",
      "Number of Exceptions 0\n",
      "\n"
     ]
    },
    {
     "name": "stderr",
     "output_type": "stream",
     "text": [
      " 88%|████████████████████████████████████████████████████████████████████████▋          | 7/8 [17:39<02:42, 162.07s/it]"
     ]
    },
    {
     "name": "stdout",
     "output_type": "stream",
     "text": [
      "Repo Name https://github.com/GenericMappingTools/pygmt\n",
      "DVC Bug Ratio Per Commit:  0.1595744680851064\n",
      "NON DVC Bug Ratio Per Commit:  0.1473463687150838\n",
      "DVC Files Median and Average for Number of Modified Files:      7 , 6.266666666666667\n",
      "NON DVC Files Median and Average for Number of Modified Files:  2 , 4.1753554502369665\n",
      "non_dvc_not_bug_count, dvc_not_bug_count, non_dvc_bug_count, dvc_bug_count, non_dvc_not_bug_count + dvc_not_bug_count + non_dvc_bug_count + dvc_bug_count, total_commits\n",
      "1221 79 211 15 1526 1526\n",
      "Number of Exceptions 0\n",
      "\n"
     ]
    }
   ],
   "source": [
    "commits_infos = []\n",
    "for i in tq(range(len(repos))):\n",
    "    commits_infos.append(bugs_from_commits_in_repo(\"https://github.com/\"+repos[i]))\n",
    "    save_to_file(\"C:\\\\Users\\\\F_RABBI\\\\Desktop\\\\se4a1_class_group_project\\\\data\",repos[i],\"bugs_from_commits.json\",commits_infos[i])"
   ]
  },
  {
   "cell_type": "code",
   "execution_count": null,
   "id": "d1e9f3b7",
   "metadata": {},
   "outputs": [],
   "source": []
  },
  {
   "cell_type": "code",
   "execution_count": 8,
   "id": "8518fbd5-7f39-4efa-a70b-9b5f3dd63bb3",
   "metadata": {},
   "outputs": [
    {
     "name": "stderr",
     "output_type": "stream",
     "text": [
      "100%|███████████████████████████████████████████████████████████████████████████████████| 8/8 [00:00<00:00, 119.65it/s]\n"
     ]
    }
   ],
   "source": [
    "# commits_infos = []\n",
    "# for i in tq(range(len(repos))):\n",
    "#     commits_infos.append(load_from_file(\"C:\\\\Users\\\\F_RABBI\\\\Desktop\\\\se4a1_class_group_project\\\\data\",repos[i],\"bugs_from_commits.json\"))"
   ]
  },
  {
   "cell_type": "code",
   "execution_count": 10,
   "id": "ea971f1b-ef50-4994-aa83-a3adcdf40c8b",
   "metadata": {},
   "outputs": [
    {
     "data": {
      "text/plain": [
       "8"
      ]
     },
     "execution_count": 10,
     "metadata": {},
     "output_type": "execute_result"
    }
   ],
   "source": [
    "len(commits_infos)"
   ]
  },
  {
   "cell_type": "code",
   "execution_count": null,
   "id": "c954b47b-5c15-4956-b533-1e1e9bfb0f76",
   "metadata": {},
   "outputs": [],
   "source": [
    "# for index in range(8):\n",
    "#     commits_info = commits_infos[index]\n",
    "#     dvc_files_changes_count = []\n",
    "#     non_dvc_files_changes_count = []\n",
    "\n",
    "#     for commit_hash in commits_info.keys():\n",
    "#         try:\n",
    "#             number = len(commits_info[commit_hash]['modified_files'])\n",
    "#             if commits_info[commit_hash][\"is_dvc_related\"]:\n",
    "#                 dvc_files_changes_count.append(number)\n",
    "#             else:\n",
    "#                 non_dvc_files_changes_count.append(number)\n",
    "#         except:\n",
    "#             continue\n",
    "\n",
    "#     print(\"DVC Files::Median and Average for Nmber of Modified Files:     \", statistics.median(dvc_files_changes_count), \",\", sum(dvc_files_changes_count)/len(dvc_files_changes_count))\n",
    "#     print(\"NON DVC Files::Median and Average for Nmber of Modified Files: \", statistics.median(non_dvc_files_changes_count), \",\", sum(non_dvc_files_changes_count)/len(non_dvc_files_changes_count))\n",
    "#     print()"
   ]
  },
  {
   "cell_type": "code",
   "execution_count": null,
   "id": "0c1d7a75-277e-468b-ba24-47f5b2a33777",
   "metadata": {},
   "outputs": [],
   "source": []
  }
 ],
 "metadata": {
  "kernelspec": {
   "display_name": "Python 3 (ipykernel)",
   "language": "python",
   "name": "python3"
  },
  "language_info": {
   "codemirror_mode": {
    "name": "ipython",
    "version": 3
   },
   "file_extension": ".py",
   "mimetype": "text/x-python",
   "name": "python",
   "nbconvert_exporter": "python",
   "pygments_lexer": "ipython3",
   "version": "3.9.12"
  }
 },
 "nbformat": 4,
 "nbformat_minor": 5
}
