{
 "cells": [
  {
   "cell_type": "code",
   "execution_count": 1,
   "id": "db2d50d5-6f74-4abb-8706-4cd78283bb58",
   "metadata": {},
   "outputs": [],
   "source": [
    "# https://pydriller.readthedocs.io/en/latest/tutorial.html"
   ]
  },
  {
   "cell_type": "code",
   "execution_count": 2,
   "id": "215f40d6-7f22-4839-93f4-c1d19ddc5140",
   "metadata": {},
   "outputs": [],
   "source": [
    "import pydriller\n",
    "from pydriller import Repository\n",
    "import json\n",
    "import pandas\n",
    "import os\n",
    "from tqdm import tqdm as tq\n",
    "import statistics\n",
    "import csv"
   ]
  },
  {
   "cell_type": "code",
   "execution_count": 3,
   "id": "27027ba2",
   "metadata": {},
   "outputs": [],
   "source": [
    "bug_related_msg = ['bug','bugs','fix','fixes','patch','fault','corrected','tweaked','problem','problems','issue']"
   ]
  },
  {
   "cell_type": "code",
   "execution_count": 4,
   "id": "0469916c-267d-451c-b909-b5f7e934f338",
   "metadata": {},
   "outputs": [],
   "source": [
    "# exception_messages = []\n",
    "def bugs_from_commits_in_repo(repo_name):\n",
    "    commits_info = {}\n",
    "    non_dvc_not_bug_count = 0\n",
    "    dvc_not_bug_count = 0\n",
    "    non_dvc_bug_count = 0\n",
    "    dvc_bug_count = 0\n",
    "    number_of_exceptions = 0\n",
    "    total_commits = 0\n",
    "    dvc_files_changes_count = []\n",
    "    real_dvc_files_changes_count = []\n",
    "    dvc_added_any_type_lines_per_repo = []\n",
    "    dvc_deleted_any_type_lines_per_repo = []\n",
    "    dvc_added_dvc_lines_per_repo = []\n",
    "    dvc_deleted_dvc_lines_per_repo = []\n",
    "    # non_dvc_files_changes_count = []\n",
    "    \n",
    "    for commit in Repository(repo_name).traverse_commits():\n",
    "        total_commits += 1\n",
    "        if commit.in_main_branch == False:\n",
    "            continue\n",
    "        is_bug = False\n",
    "        is_dvc = False\n",
    "        for bug_msg in bug_related_msg:\n",
    "            if bug_msg in commit.msg:\n",
    "                is_bug = True\n",
    "                break\n",
    "        single_commmit = {}\n",
    "        changed_files = []\n",
    "        try:            \n",
    "            how_many_dvc_files = 0\n",
    "            dvc_added_any_type_lines_per_commit = []\n",
    "            dvc_deleted_any_type_lines_per_commit = []\n",
    "            dvc_added_dvc_lines_per_commit = []\n",
    "            dvc_deleted_dvc_lines_per_commit = []\n",
    "            for file in commit.modified_files:\n",
    "                if 'dvc' in str(file.old_path).lower() or 'dvc' in str(file.new_path).lower():\n",
    "                    is_dvc = True\n",
    "                    if is_bug == False:    \n",
    "                        break\n",
    "                    how_many_dvc_files += 1\n",
    "                    dvc_added_dvc_lines_per_commit.append(file.added_lines)\n",
    "                    dvc_deleted_dvc_lines_per_commit.append(file.deleted_lines)\n",
    "                dvc_added_any_type_lines_per_commit.append(file.added_lines)\n",
    "                dvc_deleted_any_type_lines_per_commit.append(file.deleted_lines)\n",
    "                if is_bug == True:\n",
    "                    file_obj = {}\n",
    "                    file_obj['file_name'] = file.filename\n",
    "                    file_obj['old_path'] = file.old_path\n",
    "                    file_obj['new_path'] = file.new_path\n",
    "                    file_obj['nloc'] = file.nloc\n",
    "                    file_obj['added_lines'] = file.added_lines\n",
    "                    file_obj['deleted_lines'] = file.deleted_lines\n",
    "                    changed_files.append(file_obj)\n",
    "\n",
    "            if is_bug == False:\n",
    "                if is_dvc == False:\n",
    "                    non_dvc_not_bug_count += 1\n",
    "                else:\n",
    "                    dvc_not_bug_count += 1\n",
    "                continue\n",
    "            if is_dvc == True:\n",
    "                dvc_bug_count += 1\n",
    "            else:\n",
    "                non_dvc_bug_count += 1\n",
    "\n",
    "            single_commmit['committer_date'] = str(commit.committer_date) \n",
    "            single_commmit['author_date'] = str(commit.author_date)\n",
    "            single_commmit['commit_message'] = commit.msg\n",
    "            single_commmit['in_main_branch'] = commit.in_main_branch\n",
    "            single_commmit['committer'] = commit.committer.email\n",
    "            single_commmit[\"modified_files\"]=changed_files\n",
    "            single_commmit['is_dvc_related'] = is_dvc\n",
    "            commits_info[commit.hash] = single_commmit\n",
    "\n",
    "            if is_dvc:\n",
    "                dvc_files_changes_count.append(len(commit.modified_files))\n",
    "                real_dvc_files_changes_count.append(how_many_dvc_files)\n",
    "                dvc_added_dvc_lines_per_repo.append(sum(dvc_added_dvc_lines_per_commit))\n",
    "                dvc_deleted_dvc_lines_per_repo.append(sum(dvc_deleted_dvc_lines_per_commit))\n",
    "                dvc_added_any_type_lines_per_repo.append(sum(dvc_added_any_type_lines_per_commit))\n",
    "                dvc_deleted_any_type_lines_per_repo.append(sum(dvc_deleted_any_type_lines_per_commit))\n",
    "            # else:\n",
    "            #     non_dvc_files_changes_count.append(len(commit.modified_files))\n",
    "        except Exception as e:\n",
    "            number_of_exceptions += 1\n",
    "            # exception_messages.append(str(e))\n",
    "            # print(str(e))\n",
    "    commits_info[\"non_dvc_not_bug_count\"] = non_dvc_not_bug_count\n",
    "    commits_info[\"dvc_not_bug_count\"] = dvc_not_bug_count\n",
    "    commits_info[\"non_dvc_bug_count\"] = non_dvc_bug_count\n",
    "    commits_info[\"dvc_bug_count\"] = dvc_bug_count\n",
    "    \n",
    "    DVC_Bug_Ratio_Per_Commit = dvc_bug_count/(dvc_bug_count+dvc_not_bug_count)\n",
    "    NON_DVC_Bug_Ratio_Per_Commit = non_dvc_bug_count/(non_dvc_bug_count+non_dvc_not_bug_count)\n",
    "    \n",
    "    DVC_Files_Modified_Any_Type_Files_Med = statistics.median(dvc_files_changes_count)\n",
    "    DVC_Files_Modified_Any_Type_Files_Avg = sum(dvc_files_changes_count)/len(dvc_files_changes_count)\n",
    "    \n",
    "    DVC_Files_Modified_DVC_Files_Med = statistics.median(real_dvc_files_changes_count)\n",
    "    DVC_Files_Modified_DVC_Files_Avg = sum(real_dvc_files_changes_count)/len(real_dvc_files_changes_count)\n",
    "    \n",
    "    DVC_Files_Added_Any_Type_lines_Med = statistics.median(dvc_added_any_type_lines_per_repo)\n",
    "    DVC_Files_Added_Any_Type_lines_Avg = sum(dvc_added_any_type_lines_per_repo)/len(dvc_added_any_type_lines_per_repo)\n",
    "\n",
    "    DVC_Files_Added_DVC_lines_Med = statistics.median(dvc_added_dvc_lines_per_repo)\n",
    "    DVC_Files_Added_DVC_lines_Avg = sum(dvc_added_dvc_lines_per_repo)/len(dvc_added_dvc_lines_per_repo)\n",
    "    DVC_Files_Deleted_Any_Type_lines_Med = statistics.median(dvc_deleted_any_type_lines_per_repo)\n",
    "    DVC_Files_Deleted_Any_Type_lines_Avg = sum(dvc_deleted_any_type_lines_per_repo)/len(dvc_deleted_any_type_lines_per_repo)\n",
    "    DVC_Files_Deleted_DVC_lines_Med = statistics.median(dvc_deleted_dvc_lines_per_repo)\n",
    "    DVC_Files_Deleted_DVC_lines_Avg = sum(dvc_deleted_dvc_lines_per_repo)/len(dvc_deleted_dvc_lines_per_repo)\n",
    "    \n",
    "    summary = {}\n",
    "    summary[\"repo_name\"] = repo_name\n",
    "    summary[\"DVC_Bug_Ratio_Per_Commit\"] = DVC_Bug_Ratio_Per_Commit\n",
    "    summary[\"NON_DVC_Bug_Ratio_Per_Commit\"] = NON_DVC_Bug_Ratio_Per_Commit\n",
    "    summary[\"DVC_Files_Modified_Any_Type_Files_Med\"] = DVC_Files_Modified_Any_Type_Files_Med\n",
    "    summary[\"DVC_Files_Modified_Any_Type_Files_Avg\"] = DVC_Files_Modified_Any_Type_Files_Avg\n",
    "    summary[\"DVC_Files_Modified_DVC_Files_Med\"] = DVC_Files_Modified_DVC_Files_Med\n",
    "    summary[\"DVC_Files_Modified_DVC_Files_Avg\"] = DVC_Files_Modified_DVC_Files_Avg\n",
    "    summary[\"DVC_Files_Added_Any_Type_lines_Med\"] = DVC_Files_Added_Any_Type_lines_Med\n",
    "    summary[\"DVC_Files_Added_Any_Type_lines_Avg\"] = DVC_Files_Added_Any_Type_lines_Avg\n",
    "    summary[\"DVC_Files_Added_DVC_lines_Med\"] = DVC_Files_Added_DVC_lines_Med\n",
    "    summary[\"DVC_Files_Added_DVC_lines_Avg\"] = DVC_Files_Added_DVC_lines_Avg\n",
    "    summary[\"DVC_Files_Deleted_Any_Type_lines_Med\"] = DVC_Files_Deleted_Any_Type_lines_Med\n",
    "    summary[\"DVC_Files_Deleted_Any_Type_lines_Avg\"] = DVC_Files_Deleted_Any_Type_lines_Avg\n",
    "    summary[\"DVC_Files_Deleted_DVC_lines_Med\"] = DVC_Files_Deleted_DVC_lines_Med\n",
    "    summary[\"DVC_Files_Deleted_DVC_lines_Avg\"] = DVC_Files_Deleted_DVC_lines_Avg\n",
    "    summary[\"non_dvc_not_bug_count\"] = non_dvc_not_bug_count\n",
    "    summary[\"dvc_not_bug_count\"] = dvc_not_bug_count\n",
    "    summary[\"non_dvc_bug_count\"] = non_dvc_bug_count\n",
    "    summary[\"dvc_bug_count\"] = dvc_bug_count\n",
    "    summary[\"total\"] = non_dvc_not_bug_count + dvc_not_bug_count + non_dvc_bug_count + dvc_bug_count\n",
    "    \n",
    "    print(summary)\n",
    "#     print(\"DVC Bug Ratio Per Commit: \", dvc_bug_count/(dvc_bug_count+dvc_not_bug_count))\n",
    "#     print(\"NON DVC Bug Ratio Per Commit: \", non_dvc_bug_count/(non_dvc_bug_count+non_dvc_not_bug_count))\n",
    "    \n",
    "#     print(\"DVC Files Modified Any Files (Median and Average):     \", statistics.median(dvc_files_changes_count), \",\", sum(dvc_files_changes_count)/len(dvc_files_changes_count))\n",
    "#     print(\"DVC Files Modified DVC Files (Median and Average):     \", statistics.median(real_dvc_files_changes_count), \",\", sum(real_dvc_files_changes_count)/len(real_dvc_files_changes_count))\n",
    "    \n",
    "#     print(\"DVC Files Added Any-Type lines (Median and Average):     \", statistics.median(dvc_added_any_type_lines_per_repo), \",\", sum(dvc_added_any_type_lines_per_repo)/len(dvc_added_any_type_lines_per_repo))\n",
    "#     print(\"DVC Files Deleted Any-Type lines (Median and Average):     \", statistics.median(dvc_deleted_any_type_lines_per_repo), \",\", sum(dvc_deleted_any_type_lines_per_repo)/len(dvc_deleted_any_type_lines_per_repo))\n",
    "#     print(\"DVC Files Added DVC lines (Median and Average):     \", statistics.median(dvc_added_dvc_lines_per_repo), \",\", sum(dvc_added_dvc_lines_per_repo)/len(dvc_added_dvc_lines_per_repo))\n",
    "#     print(\"DVC Files Deleted DVC lines (Median and Average):     \", statistics.median(dvc_deleted_dvc_lines_per_repo), \",\", sum(dvc_deleted_dvc_lines_per_repo)/len(dvc_deleted_dvc_lines_per_repo))\n",
    "    \n",
    "    # print(\"NON DVC Files Median and Average for Number of Modified Files: \", statistics.median(non_dvc_files_changes_count), \",\", sum(non_dvc_files_changes_count)/len(non_dvc_files_changes_count))\n",
    "    \n",
    "    # print(\"non_dvc_not_bug_count, dvc_not_bug_count, non_dvc_bug_count, dvc_bug_count, non_dvc_not_bug_count + dvc_not_bug_count + non_dvc_bug_count + dvc_bug_count, total_commits\")\n",
    "    # print(non_dvc_not_bug_count, dvc_not_bug_count, non_dvc_bug_count, dvc_bug_count, non_dvc_not_bug_count + dvc_not_bug_count + non_dvc_bug_count + dvc_bug_count, total_commits)\n",
    "    # print(\"Number of Exceptions\", str(number_of_exceptions))\n",
    "    print()\n",
    "    print()\n",
    "    \n",
    "    return commits_info, summary"
   ]
  },
  {
   "cell_type": "code",
   "execution_count": 5,
   "id": "f39f2b64",
   "metadata": {},
   "outputs": [],
   "source": [
    "def save_to_file(root, repo_name, file_name, json_obj):\n",
    "    repo_name = repo_name.split(\"/\")[1]\n",
    "    folder_path = os.path.join(root,repo_name)\n",
    "    file_path = os.path.join(folder_path,file_name)\n",
    "    if not os.path.exists(folder_path):\n",
    "        os.makedirs(folder_path)\n",
    "    with open(file_path, 'w') as f:\n",
    "        json.dump(json_obj, f, indent=4)"
   ]
  },
  {
   "cell_type": "code",
   "execution_count": 6,
   "id": "bb08104b-3439-465f-a217-931ae239da17",
   "metadata": {},
   "outputs": [],
   "source": [
    "def save_summary_to_file(root, file_name, all_summary):\n",
    "    file_path = os.path.join(root,file_name)\n",
    "    with open(file_name, 'w', newline='') as output_file:\n",
    "        dict_writer = csv.DictWriter(output_file, all_summary[0].keys())\n",
    "        dict_writer.writeheader()\n",
    "        dict_writer.writerows(all_summary)"
   ]
  },
  {
   "cell_type": "code",
   "execution_count": 7,
   "id": "3da767c1-d967-4c30-9550-37f66014f6c0",
   "metadata": {},
   "outputs": [],
   "source": [
    "def load_from_file(root, repo_name, file_name):\n",
    "    repo_name = repo_name.split(\"/\")[1]\n",
    "    folder_path = os.path.join(root,repo_name)\n",
    "    file_path = os.path.join(folder_path,file_name)\n",
    "    with open(file_path, 'r') as f:\n",
    "        return json.load(f)"
   ]
  },
  {
   "cell_type": "code",
   "execution_count": 8,
   "id": "b718f462-307d-4ffb-841b-5b8f5ab63f39",
   "metadata": {},
   "outputs": [],
   "source": [
    "repos = [\n",
    "    'weiji14/deepicedrain',\n",
    "    'ipno-llead/processing',\n",
    "    'nasaharvest/crop-mask',\n",
    "    'BlueBrain/Search',\n",
    "    'rootski-io/rootski',\n",
    "    'dna-seq/dna-seq',\n",
    "    'GenericMappingTools/pygmt',\n",
    "    'GenericMappingTools/gmt',\n",
    "]"
   ]
  },
  {
   "cell_type": "code",
   "execution_count": 9,
   "id": "78803fd6",
   "metadata": {},
   "outputs": [
    {
     "name": "stderr",
     "output_type": "stream",
     "text": [
      " 12%|██████████▌                                                                         | 1/8 [01:37<11:21, 97.29s/it]"
     ]
    },
    {
     "name": "stdout",
     "output_type": "stream",
     "text": [
      "{'repo_name': 'https://github.com/weiji14/deepicedrain', 'DVC_Bug_Ratio_Per_Commit': 0.5, 'NON_DVC_Bug_Ratio_Per_Commit': 0.12452107279693486, 'DVC_Files_Modified_Any_Type_Files_Med': 10, 'DVC_Files_Modified_Any_Type_Files_Avg': 10.0, 'DVC_Files_Modified_DVC_Files_Med': 5, 'DVC_Files_Modified_DVC_Files_Avg': 5.0, 'DVC_Files_Added_Any_Type_lines_Med': 67, 'DVC_Files_Added_Any_Type_lines_Avg': 67.0, 'DVC_Files_Added_DVC_lines_Med': 18, 'DVC_Files_Added_DVC_lines_Avg': 18.0, 'DVC_Files_Deleted_Any_Type_lines_Med': 39, 'DVC_Files_Deleted_Any_Type_lines_Avg': 39.0, 'DVC_Files_Deleted_DVC_lines_Med': 0, 'DVC_Files_Deleted_DVC_lines_Avg': 0.0, 'non_dvc_not_bug_count': 457, 'dvc_not_bug_count': 1, 'non_dvc_bug_count': 65, 'dvc_bug_count': 1, 'total': 524}\n",
      "\n",
      "\n"
     ]
    },
    {
     "name": "stderr",
     "output_type": "stream",
     "text": [
      " 25%|████████████████████▊                                                              | 2/8 [05:25<17:26, 174.43s/it]"
     ]
    },
    {
     "name": "stdout",
     "output_type": "stream",
     "text": [
      "{'repo_name': 'https://github.com/ipno-llead/processing', 'DVC_Bug_Ratio_Per_Commit': 0.02127659574468085, 'NON_DVC_Bug_Ratio_Per_Commit': 0.20943952802359883, 'DVC_Files_Modified_Any_Type_Files_Med': 3.0, 'DVC_Files_Modified_Any_Type_Files_Avg': 3.0, 'DVC_Files_Modified_DVC_Files_Med': 1.5, 'DVC_Files_Modified_DVC_Files_Avg': 1.5, 'DVC_Files_Added_Any_Type_lines_Med': 5.0, 'DVC_Files_Added_Any_Type_lines_Avg': 5.0, 'DVC_Files_Added_DVC_lines_Med': 1.5, 'DVC_Files_Added_DVC_lines_Avg': 1.5, 'DVC_Files_Deleted_Any_Type_lines_Med': 23.0, 'DVC_Files_Deleted_Any_Type_lines_Avg': 23.0, 'DVC_Files_Deleted_DVC_lines_Med': 7.5, 'DVC_Files_Deleted_DVC_lines_Avg': 7.5, 'non_dvc_not_bug_count': 1340, 'dvc_not_bug_count': 92, 'non_dvc_bug_count': 355, 'dvc_bug_count': 2, 'total': 1789}\n",
      "\n",
      "\n"
     ]
    },
    {
     "name": "stderr",
     "output_type": "stream",
     "text": [
      " 38%|███████████████████████████████▏                                                   | 3/8 [10:10<18:45, 225.01s/it]"
     ]
    },
    {
     "name": "stdout",
     "output_type": "stream",
     "text": [
      "{'repo_name': 'https://github.com/nasaharvest/crop-mask', 'DVC_Bug_Ratio_Per_Commit': 0.016666666666666666, 'NON_DVC_Bug_Ratio_Per_Commit': 0.06510969568294409, 'DVC_Files_Modified_Any_Type_Files_Med': 4.5, 'DVC_Files_Modified_Any_Type_Files_Avg': 4.5, 'DVC_Files_Modified_DVC_Files_Med': 3.5, 'DVC_Files_Modified_DVC_Files_Avg': 3.5, 'DVC_Files_Added_Any_Type_lines_Med': 16.5, 'DVC_Files_Added_Any_Type_lines_Avg': 16.5, 'DVC_Files_Added_DVC_lines_Med': 9.0, 'DVC_Files_Added_DVC_lines_Avg': 9.0, 'DVC_Files_Deleted_Any_Type_lines_Med': 15.0, 'DVC_Files_Deleted_Any_Type_lines_Avg': 15.0, 'DVC_Files_Deleted_DVC_lines_Med': 9.0, 'DVC_Files_Deleted_DVC_lines_Avg': 9.0, 'non_dvc_not_bug_count': 1321, 'dvc_not_bug_count': 118, 'non_dvc_bug_count': 92, 'dvc_bug_count': 2, 'total': 1533}\n",
      "\n",
      "\n"
     ]
    },
    {
     "name": "stderr",
     "output_type": "stream",
     "text": [
      " 50%|█████████████████████████████████████████▌                                         | 4/8 [11:05<10:30, 157.68s/it]"
     ]
    },
    {
     "name": "stdout",
     "output_type": "stream",
     "text": [
      "{'repo_name': 'https://github.com/BlueBrain/Search', 'DVC_Bug_Ratio_Per_Commit': 0.034482758620689655, 'NON_DVC_Bug_Ratio_Per_Commit': 0.12285012285012285, 'DVC_Files_Modified_Any_Type_Files_Med': 55, 'DVC_Files_Modified_Any_Type_Files_Avg': 55.0, 'DVC_Files_Modified_DVC_Files_Med': 35, 'DVC_Files_Modified_DVC_Files_Avg': 35.0, 'DVC_Files_Added_Any_Type_lines_Med': 1359, 'DVC_Files_Added_Any_Type_lines_Avg': 1359.0, 'DVC_Files_Added_DVC_lines_Med': 698, 'DVC_Files_Added_DVC_lines_Avg': 698.0, 'DVC_Files_Deleted_Any_Type_lines_Med': 77, 'DVC_Files_Deleted_Any_Type_lines_Avg': 77.0, 'DVC_Files_Deleted_DVC_lines_Med': 0, 'DVC_Files_Deleted_DVC_lines_Avg': 0.0, 'non_dvc_not_bug_count': 357, 'dvc_not_bug_count': 28, 'non_dvc_bug_count': 50, 'dvc_bug_count': 1, 'total': 436}\n",
      "\n",
      "\n"
     ]
    },
    {
     "name": "stderr",
     "output_type": "stream",
     "text": [
      " 62%|███████████████████████████████████████████████████▉                               | 5/8 [12:00<06:02, 120.71s/it]"
     ]
    },
    {
     "name": "stdout",
     "output_type": "stream",
     "text": [
      "{'repo_name': 'https://github.com/rootski-io/rootski', 'DVC_Bug_Ratio_Per_Commit': 0.2, 'NON_DVC_Bug_Ratio_Per_Commit': 0.16777041942604856, 'DVC_Files_Modified_Any_Type_Files_Med': 51, 'DVC_Files_Modified_Any_Type_Files_Avg': 51.0, 'DVC_Files_Modified_DVC_Files_Med': 21, 'DVC_Files_Modified_DVC_Files_Avg': 21.0, 'DVC_Files_Added_Any_Type_lines_Med': 227, 'DVC_Files_Added_Any_Type_lines_Avg': 227.0, 'DVC_Files_Added_DVC_lines_Med': 0, 'DVC_Files_Added_DVC_lines_Avg': 0.0, 'DVC_Files_Deleted_Any_Type_lines_Med': 83, 'DVC_Files_Deleted_Any_Type_lines_Avg': 83.0, 'DVC_Files_Deleted_DVC_lines_Med': 0, 'DVC_Files_Deleted_DVC_lines_Avg': 0.0, 'non_dvc_not_bug_count': 377, 'dvc_not_bug_count': 4, 'non_dvc_bug_count': 76, 'dvc_bug_count': 1, 'total': 458}\n",
      "\n",
      "\n"
     ]
    },
    {
     "name": "stderr",
     "output_type": "stream",
     "text": [
      " 75%|███████████████████████████████████████████████████████████████                     | 6/8 [12:15<02:49, 84.69s/it]"
     ]
    },
    {
     "name": "stdout",
     "output_type": "stream",
     "text": [
      "{'repo_name': 'https://github.com/dna-seq/dna-seq', 'DVC_Bug_Ratio_Per_Commit': 0.18181818181818182, 'NON_DVC_Bug_Ratio_Per_Commit': 0.20689655172413793, 'DVC_Files_Modified_Any_Type_Files_Med': 6.5, 'DVC_Files_Modified_Any_Type_Files_Avg': 8.0, 'DVC_Files_Modified_DVC_Files_Med': 3.5, 'DVC_Files_Modified_DVC_Files_Avg': 3.75, 'DVC_Files_Added_Any_Type_lines_Med': 26.0, 'DVC_Files_Added_Any_Type_lines_Avg': 55.75, 'DVC_Files_Added_DVC_lines_Med': 19.5, 'DVC_Files_Added_DVC_lines_Avg': 29.0, 'DVC_Files_Deleted_Any_Type_lines_Med': 23.0, 'DVC_Files_Deleted_Any_Type_lines_Avg': 20.0, 'DVC_Files_Deleted_DVC_lines_Med': 9.5, 'DVC_Files_Deleted_DVC_lines_Avg': 9.25, 'non_dvc_not_bug_count': 69, 'dvc_not_bug_count': 18, 'non_dvc_bug_count': 18, 'dvc_bug_count': 4, 'total': 109}\n",
      "\n",
      "\n"
     ]
    },
    {
     "name": "stderr",
     "output_type": "stream",
     "text": [
      " 88%|████████████████████████████████████████████████████████████████████████▋          | 7/8 [17:35<02:41, 161.53s/it]"
     ]
    },
    {
     "name": "stdout",
     "output_type": "stream",
     "text": [
      "{'repo_name': 'https://github.com/GenericMappingTools/pygmt', 'DVC_Bug_Ratio_Per_Commit': 0.1595744680851064, 'NON_DVC_Bug_Ratio_Per_Commit': 0.14724354501046755, 'DVC_Files_Modified_Any_Type_Files_Med': 7, 'DVC_Files_Modified_Any_Type_Files_Avg': 6.266666666666667, 'DVC_Files_Modified_DVC_Files_Med': 1, 'DVC_Files_Modified_DVC_Files_Avg': 1.6, 'DVC_Files_Added_Any_Type_lines_Med': 13, 'DVC_Files_Added_Any_Type_lines_Avg': 59.13333333333333, 'DVC_Files_Added_DVC_lines_Med': 1, 'DVC_Files_Added_DVC_lines_Avg': 4.466666666666667, 'DVC_Files_Deleted_Any_Type_lines_Med': 1, 'DVC_Files_Deleted_Any_Type_lines_Avg': 8.4, 'DVC_Files_Deleted_DVC_lines_Med': 1, 'DVC_Files_Deleted_DVC_lines_Avg': 1.0, 'non_dvc_not_bug_count': 1222, 'dvc_not_bug_count': 79, 'non_dvc_bug_count': 211, 'dvc_bug_count': 15, 'total': 1527}\n",
      "\n",
      "\n",
      "{'repo_name': 'https://github.com/GenericMappingTools/gmt', 'DVC_Bug_Ratio_Per_Commit': 0.35, 'NON_DVC_Bug_Ratio_Per_Commit': 0.12768607910308316, 'DVC_Files_Modified_Any_Type_Files_Med': 3.0, 'DVC_Files_Modified_Any_Type_Files_Avg': 6.357142857142857, 'DVC_Files_Modified_DVC_Files_Med': 1.0, 'DVC_Files_Modified_DVC_Files_Avg': 1.2857142857142858, 'DVC_Files_Added_Any_Type_lines_Med': 35.5, 'DVC_Files_Added_Any_Type_lines_Avg': 157.42857142857142, 'DVC_Files_Added_DVC_lines_Med': 3.0, 'DVC_Files_Added_DVC_lines_Avg': 3.142857142857143, 'DVC_Files_Deleted_Any_Type_lines_Med': 8.5, 'DVC_Files_Deleted_Any_Type_lines_Avg': 63.214285714285715, 'DVC_Files_Deleted_DVC_lines_Med': 3.0, 'DVC_Files_Deleted_DVC_lines_Avg': 3.142857142857143, 'non_dvc_not_bug_count': 22408, 'dvc_not_bug_count': 26, 'non_dvc_bug_count': 3280, 'dvc_bug_count': 14, 'total': 25728}\n",
      "\n",
      "\n"
     ]
    },
    {
     "name": "stderr",
     "output_type": "stream",
     "text": [
      "100%|█████████████████████████████████████████████████████████████████████████████████| 8/8 [1:57:55<00:00, 884.44s/it]\n"
     ]
    }
   ],
   "source": [
    "commits_infos = []\n",
    "all_summary = []\n",
    "for i in tq(range(len(repos))):\n",
    "    commit_info, summary = bugs_from_commits_in_repo(\"https://github.com/\"+repos[i])\n",
    "    commits_infos.append(commit_info)\n",
    "    all_summary.append(summary)\n",
    "    save_to_file(\"C:\\\\Users\\\\F_RABBI\\\\Desktop\\\\se4a1_class_group_project\\\\data\",repos[i],\"bugs_from_commits.json\",commits_infos[i])"
   ]
  },
  {
   "cell_type": "code",
   "execution_count": 13,
   "id": "d1e9f3b7",
   "metadata": {},
   "outputs": [],
   "source": [
    "save_summary_to_file(\"C:\\\\Users\\\\F_RABBI\\\\Desktop\\\\se4a1_class_group_project\\\\data\",\"commits_summary.csv\",all_summary)"
   ]
  },
  {
   "cell_type": "code",
   "execution_count": 10,
   "id": "8518fbd5-7f39-4efa-a70b-9b5f3dd63bb3",
   "metadata": {},
   "outputs": [],
   "source": [
    "# commits_infos = []\n",
    "# for i in tq(range(len(repos))):\n",
    "#     commits_infos.append(load_from_file(\"C:\\\\Users\\\\F_RABBI\\\\Desktop\\\\se4a1_class_group_project\\\\data\",repos[i],\"bugs_from_commits.json\"))"
   ]
  },
  {
   "cell_type": "code",
   "execution_count": 11,
   "id": "ea971f1b-ef50-4994-aa83-a3adcdf40c8b",
   "metadata": {},
   "outputs": [
    {
     "data": {
      "text/plain": [
       "8"
      ]
     },
     "execution_count": 11,
     "metadata": {},
     "output_type": "execute_result"
    }
   ],
   "source": [
    "len(commits_infos)"
   ]
  },
  {
   "cell_type": "code",
   "execution_count": 12,
   "id": "c954b47b-5c15-4956-b533-1e1e9bfb0f76",
   "metadata": {},
   "outputs": [],
   "source": [
    "# for index in range(8):\n",
    "#     commits_info = commits_infos[index]\n",
    "#     dvc_files_changes_count = []\n",
    "#     non_dvc_files_changes_count = []\n",
    "\n",
    "#     for commit_hash in commits_info.keys():\n",
    "#         try:\n",
    "#             number = len(commits_info[commit_hash]['modified_files'])\n",
    "#             if commits_info[commit_hash][\"is_dvc_related\"]:\n",
    "#                 dvc_files_changes_count.append(number)\n",
    "#             else:\n",
    "#                 non_dvc_files_changes_count.append(number)\n",
    "#         except:\n",
    "#             continue\n",
    "\n",
    "#     print(\"DVC Files::Median and Average for Nmber of Modified Files:     \", statistics.median(dvc_files_changes_count), \",\", sum(dvc_files_changes_count)/len(dvc_files_changes_count))\n",
    "#     print(\"NON DVC Files::Median and Average for Nmber of Modified Files: \", statistics.median(non_dvc_files_changes_count), \",\", sum(non_dvc_files_changes_count)/len(non_dvc_files_changes_count))\n",
    "#     print()"
   ]
  },
  {
   "cell_type": "code",
   "execution_count": null,
   "id": "5e724058-760d-4430-95cb-3c415ae74a6e",
   "metadata": {},
   "outputs": [],
   "source": []
  },
  {
   "cell_type": "code",
   "execution_count": null,
   "id": "0c1d7a75-277e-468b-ba24-47f5b2a33777",
   "metadata": {},
   "outputs": [],
   "source": []
  }
 ],
 "metadata": {
  "kernelspec": {
   "display_name": "Python 3 (ipykernel)",
   "language": "python",
   "name": "python3"
  },
  "language_info": {
   "codemirror_mode": {
    "name": "ipython",
    "version": 3
   },
   "file_extension": ".py",
   "mimetype": "text/x-python",
   "name": "python",
   "nbconvert_exporter": "python",
   "pygments_lexer": "ipython3",
   "version": "3.9.12"
  }
 },
 "nbformat": 4,
 "nbformat_minor": 5
}
